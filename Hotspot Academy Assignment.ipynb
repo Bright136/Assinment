{
 "cells": [
  {
   "cell_type": "code",
   "execution_count": 1,
   "id": "adf59e1d",
   "metadata": {},
   "outputs": [],
   "source": [
    "pythonlist = ['Ama', 54, 'Kojo', 45.5, 'Yhup', 52, 'Kwame', 96, 'Kwesi', 87, 'Roland', True, 'Nti',45, 78.5, 'William', 68, 45.3, 78, 'Patty', False, 98, True, 'Adwoa',21, 65, 'Pappy',14, 'Folly', False, 52, 'Pency']"
   ]
  },
  {
   "cell_type": "code",
   "execution_count": 2,
   "id": "f7a20799",
   "metadata": {},
   "outputs": [],
   "source": [
    "#Data type sets\n",
    "Floats = []\n",
    "Ints = []\n",
    "Strings = []\n",
    "Booleans = []"
   ]
  },
  {
   "cell_type": "code",
   "execution_count": 3,
   "id": "04ceb6b4",
   "metadata": {},
   "outputs": [
    {
     "name": "stdout",
     "output_type": "stream",
     "text": [
      "[45.5, 78.5, 45.3]\n",
      "['Ama', 'Kojo', 'Yhup', 'Kwame', 'Kwesi', 'Roland', 'Nti', 'William', 'Patty', 'Adwoa', 'Pappy', 'Folly', 'Pency']\n",
      "[54, 52, 96, 87, 45, 68, 78, 98, 21, 65, 14, 52]\n",
      "[True, False, True, False]\n"
     ]
    }
   ],
   "source": [
    "Floats = []\n",
    "for item in pythonlist:\n",
    "    if type(item) is float:\n",
    "        Floats.append(item)\n",
    "print(Floats)\n",
    "\n",
    "Strings = []\n",
    "for item in pythonlist:\n",
    "    if type(item) is str:\n",
    "        Strings.append(item)\n",
    "print(Strings)\n",
    "\n",
    "Ints = []\n",
    "for item in pythonlist:\n",
    "    if type(item) is int:\n",
    "        Ints.append(item)\n",
    "print(Ints)\n",
    "\n",
    "Booleans =[]\n",
    "for item in pythonlist:\n",
    "    if type(item) is bool:\n",
    "        Booleans.append(item)\n",
    "print(Booleans) "
   ]
  },
  {
   "cell_type": "code",
   "execution_count": null,
   "id": "151e21a6",
   "metadata": {},
   "outputs": [],
   "source": [
    "Strings.sort()\n",
    "print(Strings)\n",
    "Booleans.sort() \n",
    "print(Booleans)"
   ]
  }
 ],
 "metadata": {
  "kernelspec": {
   "display_name": "Python 3",
   "language": "python",
   "name": "python3"
  },
  "language_info": {
   "codemirror_mode": {
    "name": "ipython",
    "version": 3
   },
   "file_extension": ".py",
   "mimetype": "text/x-python",
   "name": "python",
   "nbconvert_exporter": "python",
   "pygments_lexer": "ipython3",
   "version": "3.8.8"
  }
 },
 "nbformat": 4,
 "nbformat_minor": 5
}
